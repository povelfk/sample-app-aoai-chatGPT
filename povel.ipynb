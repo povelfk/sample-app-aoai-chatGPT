{
 "cells": [
  {
   "cell_type": "code",
   "execution_count": 1,
   "metadata": {},
   "outputs": [],
   "source": [
    "import os\n",
    "import openai\n",
    "import dotenv\n",
    "\n",
    "dotenv.load_dotenv()\n",
    "\n",
    "endpoint = os.environ.get(\"AZURE_OPENAI_ENDPOINT\")\n",
    "api_key = os.environ.get(\"AZURE_OPENAI_KEY\")\n",
    "deployment = os.environ.get(\"AZURE_OPENAI_MODEL\")"
   ]
  },
  {
   "cell_type": "code",
   "execution_count": 21,
   "metadata": {},
   "outputs": [
    {
     "name": "stdout",
     "output_type": "stream",
     "text": [
      "{\n",
      "  \"id\": \"449818c9-bf59-48fb-8458-05a256c84e44\",\n",
      "  \"choices\": [\n",
      "    {\n",
      "      \"finish_reason\": \"stop\",\n",
      "      \"index\": 0,\n",
      "      \"logprobs\": null,\n",
      "      \"message\": {\n",
      "        \"content\": \"The retrieved document provides information on how to report a crime to the police. It is intended for all activities and managers within the Västerbotten Region when reporting a crime to the police. The document contains an external link to the police for making a report of a crime, theft, etc. [doc1].\",\n",
      "        \"role\": \"assistant\",\n",
      "        \"function_call\": null,\n",
      "        \"tool_calls\": null,\n",
      "        \"end_turn\": true,\n",
      "        \"context\": {\n",
      "          \"citations\": [\n",
      "            {\n",
      "              \"content\": \"Dokumentet gäller inom Plats: Alla Org: Region Västerbotten\\nUtgåva nr 2 Giltigt fro.m: 2019-10-30 - Tills vidare Uppföljning : 2022-01-04\\nVÄSTERBOTTENS LÄNS LANDSTING\\nStyrande dokument Externlänk\\n<h2>Anmälan om brott till polisen</h2>\\nOmfattning\\nDet här dokumentet riktar sig till alla verksamheter och chefer inom Region Västerbotten när verksamheten ska göra en polisanmälan.\\nBeskrivning\\nDetta dokument är en extern länk till polisen när verksamheten ska göra en anmälan om brott, stöld mm till polisen.\\nhttps://anmalan.polisen.se/imse/foremalasdqwe123this is a test field\",\n",
      "              \"title\": \"Anmälan om brott till polisen\",\n",
      "              \"url\": \"https://storagediggechatbot.blob.core.windows.net/test1/Anmälan om brott till polisen(186680).pdf\",\n",
      "              \"filepath\": \"Anmälan om brott till polisen(186680).pdf\",\n",
      "              \"chunk_id\": \"0\"\n",
      "            }\n",
      "          ],\n",
      "          \"intent\": \"[\\\"Hur anmäler jag ett brott?\\\", \\\"Vad behöver jag göra för att anmäla ett brott?\\\"]\"\n",
      "        }\n",
      "      }\n",
      "    }\n",
      "  ],\n",
      "  \"created\": 1718189153,\n",
      "  \"model\": \"gpt-35-turbo\",\n",
      "  \"object\": \"extensions.chat.completion\",\n",
      "  \"system_fingerprint\": \"fp_811936bd4f\",\n",
      "  \"usage\": {\n",
      "    \"completion_tokens\": 95,\n",
      "    \"prompt_tokens\": 3709,\n",
      "    \"total_tokens\": 3804\n",
      "  }\n",
      "}\n"
     ]
    }
   ],
   "source": [
    "client = openai.AzureOpenAI(\n",
    "    azure_endpoint=endpoint,\n",
    "    api_key=api_key,\n",
    "    api_version=\"2024-02-01\"\n",
    ")\n",
    "\n",
    "completion = client.chat.completions.create(\n",
    "    model=deployment,\n",
    "    messages=[\n",
    "        {\n",
    "            \"role\": \"user\",\n",
    "            \"content\": \"hur anmäler jag ett brott??\",\n",
    "        },\n",
    "    ],\n",
    "    extra_body={\n",
    "        \"data_sources\":[\n",
    "            {\n",
    "                \"type\": \"azure_search\",\n",
    "                \"parameters\": {\n",
    "                    \"endpoint\": os.environ[\"AZURE_SEARCH_ENDPOINT\"],\n",
    "                    \"index_name\": \"test1-new\",\n",
    "                    \"authentication\": {\n",
    "                        \"type\": \"api_key\",\n",
    "                        \"key\": os.environ[\"AZURE_SEARCH_KEY\"],\n",
    "                    },\n",
    "                    \"fields_mapping\": {\n",
    "                            \"content_fields\": [\"content\", \"testField\"],\n",
    "                            \"title_field\": \"title\",\n",
    "                            \"url_field\": \"url\",\n",
    "                            \"filepath_field\": \"filepath\",\n",
    "                            \"vector_fields\": [\"contentVector\"],\n",
    "                            \"content_fields_separator\": \"asdqwe123\"\n",
    "                    }\n",
    "                }\n",
    "            }\n",
    "        ],\n",
    "    }\n",
    ")\n",
    "\n",
    "print(completion.model_dump_json(indent=2))"
   ]
  },
  {
   "cell_type": "code",
   "execution_count": 23,
   "metadata": {},
   "outputs": [
    {
     "data": {
      "text/plain": [
       "['Dokumentet gäller inom Plats: Alla Org: Region Västerbotten\\nUtgåva nr 2 Giltigt fro.m: 2019-10-30 - Tills vidare Uppföljning : 2022-01-04\\nVÄSTERBOTTENS LÄNS LANDSTING\\nStyrande dokument Externlänk\\n<h2>Anmälan om brott till polisen</h2>\\nOmfattning\\nDet här dokumentet riktar sig till alla verksamheter och chefer inom Region Västerbotten när verksamheten ska göra en polisanmälan.\\nBeskrivning\\nDetta dokument är en extern länk till polisen när verksamheten ska göra en anmälan om brott, stöld mm till polisen.\\nhttps://anmalan.polisen.se/imse/foremal',\n",
       " 'this is a test field']"
      ]
     },
     "execution_count": 23,
     "metadata": {},
     "output_type": "execute_result"
    }
   ],
   "source": [
    "completion.choices[0].message.context['citations'][0]['content'].split(\"asdqwe123\")"
   ]
  },
  {
   "cell_type": "code",
   "execution_count": null,
   "metadata": {},
   "outputs": [],
   "source": []
  },
  {
   "cell_type": "code",
   "execution_count": null,
   "metadata": {},
   "outputs": [],
   "source": []
  }
 ],
 "metadata": {
  "kernelspec": {
   "display_name": "rv",
   "language": "python",
   "name": "python3"
  },
  "language_info": {
   "codemirror_mode": {
    "name": "ipython",
    "version": 3
   },
   "file_extension": ".py",
   "mimetype": "text/x-python",
   "name": "python",
   "nbconvert_exporter": "python",
   "pygments_lexer": "ipython3",
   "version": "3.11.4"
  }
 },
 "nbformat": 4,
 "nbformat_minor": 2
}
