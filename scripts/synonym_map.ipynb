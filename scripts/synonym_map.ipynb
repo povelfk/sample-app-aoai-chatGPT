{
 "cells": [
  {
   "cell_type": "markdown",
   "metadata": {},
   "source": [
    "# Uploading a synonym map"
   ]
  },
  {
   "cell_type": "code",
   "execution_count": 34,
   "metadata": {},
   "outputs": [],
   "source": [
    "import requests\n",
    "import json"
   ]
  },
  {
   "cell_type": "code",
   "execution_count": 48,
   "metadata": {},
   "outputs": [],
   "source": [
    "service_name = \"cog-search-jd5ypzfx2l6vi\"\n",
    "api_version = \"2023-07-01-Preview\"\n",
    "admin_key = \"omleyzSnaE1LguzkKUSTruoaCNTTIZKqwgrlCRYH1WAzSeCdPdhE\"\n",
    "language = \"sv\""
   ]
  },
  {
   "cell_type": "code",
   "execution_count": 49,
   "metadata": {},
   "outputs": [],
   "source": [
    "agresso_synonym_map={\n",
    "    \"name\": \"agresso-synonyms\",\n",
    "    \"format\": \"solr\",\n",
    "    \"synonyms\": \"\"\"\n",
    "        agresso, marksaas, levop\\n\n",
    "        faktura, henke, miro\\n\"\"\"\n",
    "}"
   ]
  },
  {
   "cell_type": "markdown",
   "metadata": {},
   "source": [
    "**uploading synonym map**"
   ]
  },
  {
   "cell_type": "code",
   "execution_count": 50,
   "metadata": {},
   "outputs": [
    {
     "name": "stdout",
     "output_type": "stream",
     "text": [
      "400\n",
      "{\"error\":{\"code\":\"ResourceNameAlreadyInUse\",\"message\":\"Cannot create synonym map'agresso-synonyms' because a synonym map with that name already exists\",\"details\":[{\"code\":\"DuplicateSynonymMap\",\"message\":\"Cannot create synonym map'agresso-synonyms' because a synonym map with that name already exists\"}]}}\n"
     ]
    }
   ],
   "source": [
    "url = f\"https://{service_name}.search.windows.net/synonymmaps?api-version={api_version}\"\n",
    "\n",
    "headers = {\n",
    "    \"Content-Type\": \"application/json\",\n",
    "    \"api-key\": admin_key,\n",
    "}\n",
    "\n",
    "# Replace this with your actual data\n",
    "body = agresso_synonym_map\n",
    "\n",
    "response = requests.post(url, headers=headers, data=json.dumps(body))\n",
    "\n",
    "print(response.status_code)\n",
    "print(response.text)"
   ]
  },
  {
   "cell_type": "markdown",
   "metadata": {},
   "source": [
    "**Assign synonym map to fields**"
   ]
  },
  {
   "cell_type": "code",
   "execution_count": 55,
   "metadata": {},
   "outputs": [
    {
     "name": "stdout",
     "output_type": "stream",
     "text": [
      "Request failed. Status code: 400\n",
      "{\"error\":{\"code\":\"OperationNotAllowed\",\"message\":\"The request is invalid. Details: index : Found 0 key fields in index '001-test1-test2'. Each index must have exactly one key field.\",\"details\":[{\"code\":\"MissingKeyField\",\"message\":\"Found 0 key fields in index '001-test1-test2'. Each index must have exactly one key field. Parameters: index\"}]}}\n"
     ]
    }
   ],
   "source": [
    "service_name = \"cog-search-jd5ypzfx2l6vi\"\n",
    "api_version = \"2023-07-01-Preview\"\n",
    "admin_key = \"omleyzSnaE1LguzkKUSTruoaCNTTIZKqwgrlCRYH1WAzSeCdPdhE\"\n",
    "language = \"sv\"\n",
    "index_name=\"001-test1-test2\"\n",
    "\n",
    "url = f\"https://{service_name}.search.windows.net/indexes/{index_name}?api-version={api_version}\"\n",
    "\n",
    "headers = {\n",
    "    \"Content-Type\": \"application/json\",\n",
    "    \"api-key\": admin_key\n",
    "}\n",
    "\n",
    "body = {\n",
    "    \"fields\": [\n",
    "        {\n",
    "            \"name\": \"content\",\n",
    "            \"type\": \"Edm.String\",\n",
    "            \"searchable\": True,\n",
    "            \"sortable\": False,\n",
    "            \"facetable\": False,\n",
    "            \"filterable\": False,\n",
    "            \"analyzer\": f\"{language}.lucene\" if language else None,\n",
    "            \"synonymMaps\": [\"agresso-synonyms\"]\n",
    "        }\n",
    "    ]\n",
    "}\n",
    "\n",
    "response = requests.put(url, headers=headers, data=json.dumps(body))\n",
    "\n",
    "# Check the response\n",
    "if response.status_code == 200:\n",
    "    print(\"Request was successful.\")\n",
    "else:\n",
    "    print(f\"Request failed. Status code: {response.status_code}\")\n",
    "    print(response.text)\n"
   ]
  },
  {
   "cell_type": "code",
   "execution_count": 63,
   "metadata": {},
   "outputs": [
    {
     "name": "stdout",
     "output_type": "stream",
     "text": [
      "id\n",
      "content\n",
      "title\n",
      "filepath\n",
      "url\n",
      "metadata\n",
      "contentVector\n"
     ]
    },
    {
     "data": {
      "text/plain": [
       "<azure.search.documents.indexes.models._index.SearchIndex at 0x20ec584dcd0>"
      ]
     },
     "execution_count": 63,
     "metadata": {},
     "output_type": "execute_result"
    }
   ],
   "source": [
    "from azure.core.credentials import AzureKeyCredential\n",
    "from azure.search.documents.indexes import SearchIndexClient\n",
    "from azure.search.documents.indexes.models import SearchIndex, SimpleField, SearchFieldDataType\n",
    "\n",
    "# Create a new SearchIndexClient\n",
    "endpoint = f\"https://{service_name}.search.windows.net\"\n",
    "credential = AzureKeyCredential(admin_key)\n",
    "index_client = SearchIndexClient(endpoint, credential)\n",
    "\n",
    "# Get the index\n",
    "index = index_client.get_index(name=index_name)\n",
    "\n",
    "# Assign the synonym map to a field\n",
    "for field in index.fields:\n",
    "    if field.name == \"content\":\n",
    "        field.synonym_maps = [\"agresso-synonyms\"]\n",
    "\n",
    "# Update the index\n",
    "index_client.create_or_update_index(index)\n"
   ]
  },
  {
   "cell_type": "markdown",
   "metadata": {},
   "source": [
    "**list synonym maps**"
   ]
  },
  {
   "cell_type": "code",
   "execution_count": 68,
   "metadata": {},
   "outputs": [
    {
     "name": "stdout",
     "output_type": "stream",
     "text": [
      "200\n",
      "Synonym map: {'@odata.etag': '\"0x8DC0306A8297285\"', 'name': 'agresso-synonyms', 'format': 'solr', 'synonyms': '\\n        agresso, marksaas, levop\\n\\n        faktura, henke, miro\\n', 'encryptionKey': None}\n"
     ]
    }
   ],
   "source": [
    "url = f\"https://{service_name}.search.windows.net/synonymmaps?api-version={api_version}\"\n",
    "headers = {\n",
    "    'Content-Type': 'application/json',\n",
    "    'api-key': admin_key\n",
    "}\n",
    "\n",
    "response = requests.get(url, headers=headers)\n",
    "\n",
    "print(response.status_code)\n",
    "# print(response.json())\n",
    "print(f'Synonym map: {response.json()[\"value\"][0]}')"
   ]
  },
  {
   "cell_type": "markdown",
   "metadata": {},
   "source": [
    "**Get specific synonym map**"
   ]
  },
  {
   "cell_type": "code",
   "execution_count": 23,
   "metadata": {},
   "outputs": [
    {
     "name": "stdout",
     "output_type": "stream",
     "text": [
      "200\n",
      "{'@odata.context': 'https://cog-search-jd5ypzfx2l6vi.search.windows.net/$metadata#synonymmaps/$entity', '@odata.etag': '\"0x8DC0301F445C216\"', 'name': 'agresso-synonyms', 'format': 'solr', 'synonyms': '\\n        agresso, marksaas, levop\\n\\n        faktura, henke, miro\\n', 'encryptionKey': None}\n"
     ]
    }
   ],
   "source": [
    "synonymmap_name=\"agresso-synonyms\"\n",
    "\n",
    "url = f\"https://{service_name}.search.windows.net/synonymmaps/{synonymmap_name}?api-version={api_version}\"\n",
    "headers = {\n",
    "    'Content-Type': 'application/json',\n",
    "    'api-key': admin_key\n",
    "}\n",
    "\n",
    "response = requests.get(url, headers=headers)\n",
    "\n",
    "print(response.status_code)\n",
    "print(response.json())"
   ]
  },
  {
   "cell_type": "markdown",
   "metadata": {},
   "source": [
    "**delete a synonym map**"
   ]
  },
  {
   "cell_type": "code",
   "execution_count": 33,
   "metadata": {},
   "outputs": [
    {
     "name": "stdout",
     "output_type": "stream",
     "text": [
      "404\n"
     ]
    }
   ],
   "source": [
    "synonymmap_name=\"agresso-synonyms\"\n",
    "\n",
    "url = f\"https://{service_name}.search.windows.net/synonymmaps/{synonymmap_name}?api-version={api_version}\"\n",
    "headers = {\n",
    "    'Content-Type': 'application/json',\n",
    "    'api-key': admin_key\n",
    "}\n",
    "\n",
    "response = requests.delete(url, headers=headers)\n",
    "\n",
    "print(response.status_code)"
   ]
  },
  {
   "cell_type": "code",
   "execution_count": null,
   "metadata": {},
   "outputs": [],
   "source": [
    "import requests\n",
    "import json\n",
    "\n",
    "url = \"https://my-search-service.search.windows.net/indexes/my-index?api-version=2023-11-01&allowIndexDowntime=true\"\n",
    "headers = {\n",
    "    \"Content-Type\": \"application/json\",\n",
    "    \"api-key\": \"{{admin-api-key}}\",\n",
    "}\n",
    "\n",
    "body = {\n",
    "    \"name\": \"{{index-name}}\",\n",
    "    \"fields\": [\n",
    "        {\n",
    "            \"name\": \"id\",\n",
    "            \"type\": \"Edm.String\",\n",
    "            \"key\": True,\n",
    "            \"filterable\": True\n",
    "        },\n",
    "        {\n",
    "            \"name\": \"title\",\n",
    "            \"type\": \"Edm.String\",\n",
    "            \"searchable\": True,\n",
    "            \"filterable\": True,\n",
    "            \"sortable\": True,\n",
    "            \"retrievable\": True\n",
    "        },\n",
    "        {\n",
    "            \"name\": \"titleVector\",\n",
    "            \"type\": \"Collection(Edm.Single)\",\n",
    "            \"searchable\": True,\n",
    "            \"retrievable\": True,\n",
    "            \"dimensions\": 1536,\n",
    "            \"vectorSearchProfile\": \"my-default-vector-profile\"\n",
    "        },\n",
    "        {\n",
    "            \"name\": \"content\",\n",
    "            \"type\": \"Edm.String\",\n",
    "            \"searchable\": True,\n",
    "            \"retrievable\": True\n",
    "        },\n",
    "        {\n",
    "            \"name\": \"contentVector\",\n",
    "            \"type\": \"Collection(Edm.Single)\",\n",
    "            \"searchable\": True,\n",
    "            \"retrievable\": True,\n",
    "            \"dimensions\": 1536,\n",
    "            \"vectorSearchProfile\": \"my-default-vector-profile\"\n",
    "        }\n",
    "    ],\n",
    "    \"vectorSearch\": {\n",
    "        \"algorithms\": [\n",
    "            {\n",
    "                \"name\": \"my-hnsw-config-1\",\n",
    "                \"kind\": \"hnsw\",\n",
    "                \"hnswParameters\": {\n",
    "                    \"m\": 4,\n",
    "                    \"efConstruction\": 400,\n",
    "                    \"efSearch\": 500,\n",
    "                    \"metric\": \"cosine\"\n",
    "                }\n",
    "            }\n",
    "        ],\n",
    "        \"profiles\": [\n",
    "            {\n",
    "                \"name\": \"my-default-vector-profile\",\n",
    "                \"algorithm\": \"my-hnsw-config-1\"\n",
    "            }\n",
    "        ]\n",
    "    }\n",
    "}\n",
    "\n",
    "response = requests.put(url, headers=headers, data=json.dumps(body))\n",
    "\n",
    "# Check the response\n",
    "if response.status_code == 200:\n",
    "    print(\"Request was successful\")\n",
    "else:\n",
    "    print(f\"Request failed with status code {response.status_code}\")"
   ]
  }
 ],
 "metadata": {
  "kernelspec": {
   "display_name": "rv",
   "language": "python",
   "name": "python3"
  },
  "language_info": {
   "codemirror_mode": {
    "name": "ipython",
    "version": 3
   },
   "file_extension": ".py",
   "mimetype": "text/x-python",
   "name": "python",
   "nbconvert_exporter": "python",
   "pygments_lexer": "ipython3",
   "version": "3.11.4"
  }
 },
 "nbformat": 4,
 "nbformat_minor": 2
}
