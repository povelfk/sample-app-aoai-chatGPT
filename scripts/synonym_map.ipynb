{
 "cells": [
  {
   "cell_type": "markdown",
   "metadata": {},
   "source": [
    "# Uploading a synonym map"
   ]
  },
  {
   "cell_type": "code",
   "execution_count": 85,
   "metadata": {},
   "outputs": [],
   "source": [
    "import requests\n",
    "import json"
   ]
  },
  {
   "cell_type": "code",
   "execution_count": 109,
   "metadata": {},
   "outputs": [],
   "source": [
    "service_name = \"cog-search-jd5ypzfx2l6vi\"\n",
    "api_version = \"2023-11-01\"\n",
    "admin_key = \"omleyzSnaE1LguzkKUSTruoaCNTTIZKqwgrlCRYH1WAzSeCdPdhE\"\n",
    "language = \"sv\"\n",
    "index_name=\"001-version-test\""
   ]
  },
  {
   "cell_type": "markdown",
   "metadata": {},
   "source": [
    "**creating synonym maps**"
   ]
  },
  {
   "cell_type": "code",
   "execution_count": 122,
   "metadata": {},
   "outputs": [],
   "source": [
    "# **Equivalency rules**\n",
    "agresso_synonym_map={\n",
    "    \"name\": \"agresso-synonyms-equivalency\",\n",
    "    \"format\": \"solr\",\n",
    "    \"synonyms\":\n",
    "        \"Marksaas, marksaas, Levop, levop, Agresso, agresso\\n\"\n",
    "        \"Henke, henke, Miro, miro, Barnrättsombud, barnrättsombud\\n\"\n",
    "}\n",
    "\n",
    "# **Explicit mapping**\n",
    "agresso_synonym_map={\n",
    "    \"name\": \"agresso-synonyms-explicit\",\n",
    "    \"format\": \"solr\",\n",
    "    \"synonyms\":\n",
    "        \"Marksaas, marksaas, Levop, levop, Agresso, agresso => agresso\\n\"\n",
    "        \"Henke, henke, Miro, miro, Barnrättsombud, barnrättsombud => barnrättsombud\\n\"\n",
    "}"
   ]
  },
  {
   "cell_type": "markdown",
   "metadata": {},
   "source": [
    "**uploading synonym map**"
   ]
  },
  {
   "cell_type": "code",
   "execution_count": 123,
   "metadata": {},
   "outputs": [
    {
     "name": "stdout",
     "output_type": "stream",
     "text": [
      "201\n",
      "{\"@odata.context\":\"https://cog-search-jd5ypzfx2l6vi.search.windows.net/$metadata#synonymmaps/$entity\",\"@odata.etag\":\"\\\"0x8DC032C7DED7D2A\\\"\",\"name\":\"agresso-synonyms-equivalency\",\"format\":\"solr\",\"synonyms\":\"Marksaas, marksaas, Levop, levop, Agresso, agresso\\nHenke, henke, Miro, miro, Barnr\\u00e4ttsombud, barnr\\u00e4ttsombud\\n\",\"encryptionKey\":null}\n"
     ]
    }
   ],
   "source": [
    "url = f\"https://{service_name}.search.windows.net/synonymmaps?api-version={api_version}\"\n",
    "\n",
    "headers = {\n",
    "    \"Content-Type\": \"application/json\",\n",
    "    \"api-key\": admin_key,\n",
    "}\n",
    "\n",
    "# Replace this with your actual data\n",
    "body = agresso_synonym_map\n",
    "\n",
    "response = requests.post(url, headers=headers, data=json.dumps(body))\n",
    "\n",
    "print(response.status_code)\n",
    "print(response.text)"
   ]
  },
  {
   "cell_type": "markdown",
   "metadata": {},
   "source": [
    "**Assign synonym map to fields**"
   ]
  },
  {
   "cell_type": "code",
   "execution_count": 94,
   "metadata": {},
   "outputs": [],
   "source": [
    "# url = f\"https://{service_name}.search.windows.net/indexes/{index_name}?api-version={api_version}\"\n",
    "\n",
    "# headers = {\n",
    "#     \"Content-Type\": \"application/json\",\n",
    "#     \"api-key\": admin_key\n",
    "# }\n",
    "\n",
    "# body = {\n",
    "#     \"fields\": [\n",
    "#         {\n",
    "#             \"name\": \"content\",\n",
    "#             \"type\": \"Edm.String\",\n",
    "#             \"searchable\": True,\n",
    "#             \"sortable\": False,\n",
    "#             \"facetable\": False,\n",
    "#             \"filterable\": False,\n",
    "#             \"analyzer\": f\"{language}.lucene\" if language else None,\n",
    "#             \"synonymMaps\": [\"agresso-synonyms\"]\n",
    "#         }\n",
    "#     ]\n",
    "# }\n",
    "\n",
    "# response = requests.put(url, headers=headers, data=json.dumps(body))\n",
    "\n",
    "# # Check the response\n",
    "# if response.status_code == 200:\n",
    "#     print(\"Request was successful.\")\n",
    "# else:\n",
    "#     print(f\"Request failed. Status code: {response.status_code}\")\n",
    "#     print(response.text)\n"
   ]
  },
  {
   "cell_type": "code",
   "execution_count": 95,
   "metadata": {},
   "outputs": [],
   "source": [
    "# from azure.core.credentials import AzureKeyCredential\n",
    "# from azure.search.documents.indexes import SearchIndexClient\n",
    "# from azure.search.documents.indexes.models import SearchIndex, SimpleField, SearchFieldDataType\n",
    "\n",
    "# # Create a new SearchIndexClient\n",
    "# endpoint = f\"https://{service_name}.search.windows.net\"\n",
    "# credential = AzureKeyCredential(admin_key)\n",
    "# index_client = SearchIndexClient(endpoint, credential, api_version=api_version)\n",
    "\n",
    "\n",
    "# # Get the index\n",
    "# index = index_client.get_index(name=index_name)\n",
    "\n",
    "# # Assign the synonym map to a field\n",
    "# for field in index.fields:\n",
    "#     if field.name == \"content\":\n",
    "#         field.synonym_maps = [\"agresso-synonyms\"]\n",
    "\n",
    "# # Update the index\n",
    "# index_client.create_or_update_index(index)\n"
   ]
  },
  {
   "cell_type": "markdown",
   "metadata": {},
   "source": [
    "**list synonym maps**"
   ]
  },
  {
   "cell_type": "code",
   "execution_count": 104,
   "metadata": {},
   "outputs": [
    {
     "name": "stdout",
     "output_type": "stream",
     "text": [
      "200\n",
      "{'@odata.etag': '\"0x8DC0317EEDB2019\"', 'name': 'agresso-synonyms-equivalency', 'format': 'solr', 'synonyms': '\\n        agresso, marksaas, levop\\n\\n        faktura, henke, miro\\n', 'encryptionKey': None}\n",
      "{'@odata.etag': '\"0x8DC0317E96E7580\"', 'name': 'agresso-synonyms-explicit', 'format': 'solr', 'synonyms': '\\n        marksaas, levop, agresso => agresso \\n\\n        henke, miro, faktura => faktura\\n', 'encryptionKey': None}\n"
     ]
    }
   ],
   "source": [
    "url = f\"https://{service_name}.search.windows.net/synonymmaps?api-version={api_version}\"\n",
    "headers = {\n",
    "    'Content-Type': 'application/json',\n",
    "    'api-key': admin_key\n",
    "}\n",
    "\n",
    "response = requests.get(url, headers=headers)\n",
    "\n",
    "print(response.status_code)\n",
    "# print(response.json())\n",
    "for map in response.json()[\"value\"]:\n",
    "    print(map)"
   ]
  },
  {
   "cell_type": "markdown",
   "metadata": {},
   "source": [
    "**Get specific synonym map**"
   ]
  },
  {
   "cell_type": "code",
   "execution_count": 23,
   "metadata": {},
   "outputs": [
    {
     "name": "stdout",
     "output_type": "stream",
     "text": [
      "200\n",
      "{'@odata.context': 'https://cog-search-jd5ypzfx2l6vi.search.windows.net/$metadata#synonymmaps/$entity', '@odata.etag': '\"0x8DC0301F445C216\"', 'name': 'agresso-synonyms', 'format': 'solr', 'synonyms': '\\n        agresso, marksaas, levop\\n\\n        faktura, henke, miro\\n', 'encryptionKey': None}\n"
     ]
    }
   ],
   "source": [
    "synonymmap_name=\"agresso-synonyms\"\n",
    "\n",
    "url = f\"https://{service_name}.search.windows.net/synonymmaps/{synonymmap_name}?api-version={api_version}\"\n",
    "headers = {\n",
    "    'Content-Type': 'application/json',\n",
    "    'api-key': admin_key\n",
    "}\n",
    "\n",
    "response = requests.get(url, headers=headers)\n",
    "\n",
    "print(response.status_code)\n",
    "print(response.json())"
   ]
  },
  {
   "cell_type": "markdown",
   "metadata": {},
   "source": [
    "**delete a synonym map**"
   ]
  },
  {
   "cell_type": "code",
   "execution_count": 119,
   "metadata": {},
   "outputs": [
    {
     "name": "stdout",
     "output_type": "stream",
     "text": [
      "204\n"
     ]
    }
   ],
   "source": [
    "synonymmap_name=\"agresso-synonyms-equivalency\"\n",
    "\n",
    "url = f\"https://{service_name}.search.windows.net/synonymmaps/{synonymmap_name}?api-version={api_version}\"\n",
    "headers = {\n",
    "    'Content-Type': 'application/json',\n",
    "    'api-key': admin_key\n",
    "}\n",
    "\n",
    "response = requests.delete(url, headers=headers)\n",
    "\n",
    "print(response.status_code)"
   ]
  },
  {
   "cell_type": "markdown",
   "metadata": {},
   "source": [
    "# Test search\n",
    " Resten av repot använder azure-search-documents 11.4.0b6\n",
    " testerna kräver 11.4.0"
   ]
  },
  {
   "cell_type": "code",
   "execution_count": 105,
   "metadata": {},
   "outputs": [
    {
     "ename": "ImportError",
     "evalue": "cannot import name 'VectorizedQuery' from 'azure.search.documents.models' (c:\\Users\\povelf\\AppData\\Local\\miniconda3\\envs\\rv\\Lib\\site-packages\\azure\\search\\documents\\models\\__init__.py)",
     "output_type": "error",
     "traceback": [
      "\u001b[1;31m---------------------------------------------------------------------------\u001b[0m",
      "\u001b[1;31mImportError\u001b[0m                               Traceback (most recent call last)",
      "Cell \u001b[1;32mIn[105], line 14\u001b[0m\n\u001b[0;32m     11\u001b[0m \u001b[38;5;28;01mfrom\u001b[39;00m \u001b[38;5;21;01mazure\u001b[39;00m\u001b[38;5;21;01m.\u001b[39;00m\u001b[38;5;21;01msearch\u001b[39;00m\u001b[38;5;21;01m.\u001b[39;00m\u001b[38;5;21;01mdocuments\u001b[39;00m\u001b[38;5;21;01m.\u001b[39;00m\u001b[38;5;21;01mindexes\u001b[39;00m \u001b[38;5;28;01mimport\u001b[39;00m SearchIndexClient\n\u001b[0;32m     12\u001b[0m \u001b[38;5;28;01mfrom\u001b[39;00m \u001b[38;5;21;01mazure\u001b[39;00m\u001b[38;5;21;01m.\u001b[39;00m\u001b[38;5;21;01msearch\u001b[39;00m\u001b[38;5;21;01m.\u001b[39;00m\u001b[38;5;21;01mdocuments\u001b[39;00m \u001b[38;5;28;01mimport\u001b[39;00m SearchClient\n\u001b[1;32m---> 14\u001b[0m \u001b[38;5;28;01mfrom\u001b[39;00m \u001b[38;5;21;01mazure\u001b[39;00m\u001b[38;5;21;01m.\u001b[39;00m\u001b[38;5;21;01msearch\u001b[39;00m\u001b[38;5;21;01m.\u001b[39;00m\u001b[38;5;21;01mdocuments\u001b[39;00m\u001b[38;5;21;01m.\u001b[39;00m\u001b[38;5;21;01mmodels\u001b[39;00m \u001b[38;5;28;01mimport\u001b[39;00m (\n\u001b[0;32m     15\u001b[0m     QueryAnswerType,\n\u001b[0;32m     16\u001b[0m     QueryCaptionType,\n\u001b[0;32m     17\u001b[0m     QueryType,\n\u001b[0;32m     18\u001b[0m     VectorizedQuery,\n\u001b[0;32m     19\u001b[0m     VectorFilterMode,\n\u001b[0;32m     20\u001b[0m )\n",
      "\u001b[1;31mImportError\u001b[0m: cannot import name 'VectorizedQuery' from 'azure.search.documents.models' (c:\\Users\\povelf\\AppData\\Local\\miniconda3\\envs\\rv\\Lib\\site-packages\\azure\\search\\documents\\models\\__init__.py)"
     ]
    }
   ],
   "source": [
    "# imports\n",
    "import pandas as pd\n",
    "import glob\n",
    "import os\n",
    "import pandas as pd\n",
    "\n",
    "import openai\n",
    "from dotenv import load_dotenv\n",
    "\n",
    "from azure.core.credentials import AzureKeyCredential\n",
    "from azure.search.documents.indexes import SearchIndexClient\n",
    "from azure.search.documents import SearchClient\n",
    "\n",
    "from azure.search.documents.models import (\n",
    "    QueryAnswerType,\n",
    "    QueryCaptionType,\n",
    "    QueryType,\n",
    "    VectorizedQuery,\n",
    "    VectorFilterMode,\n",
    ")"
   ]
  },
  {
   "cell_type": "code",
   "execution_count": null,
   "metadata": {},
   "outputs": [],
   "source": [
    "load_dotenv()\n",
    "\n",
    "# Connect to your Azure Cognitive Search service\n",
    "endpoint = \"https://cog-search-jd5ypzfx2l6vi.search.windows.net\"\n",
    "key = \"omleyzSnaE1LguzkKUSTruoaCNTTIZKqwgrlCRYH1WAzSeCdPdhE\"\n",
    "index_name = \"001-version-test\"\n",
    "\n",
    "credential = AzureKeyCredential(key)\n",
    "client = SearchIndexClient(endpoint, credential)\n",
    "\n",
    "openai.api_type = \"azure\"\n",
    "openai.api_key = os.getenv(\"AZURE_OPENAI_KEY\")\n",
    "openai.api_base = os.getenv(\"AZURE_OPENAI_ENDPOINT\")\n",
    "openai.api_version = \"2023-06-01-preview\""
   ]
  },
  {
   "cell_type": "code",
   "execution_count": null,
   "metadata": {},
   "outputs": [],
   "source": [
    "def get_embedding(text, model=\"text-embedding-ada-002\"):\n",
    "    embedding = openai.Embedding.create(input=text, engine=model)\n",
    "    return embedding[\"data\"][0][\"embedding\"]"
   ]
  },
  {
   "cell_type": "code",
   "execution_count": null,
   "metadata": {},
   "outputs": [],
   "source": [
    "query = \"vad kan jag använda marksaas till?\"\n",
    "a=[]\n",
    "\n",
    "\n",
    "search_client = SearchClient(endpoint, index_name, credential=credential)\n",
    "vector_query = VectorizedQuery(vector=get_embedding(query), k_nearest_neighbors=3, fields=\"contentVector\")\n",
    "\n",
    "results = search_client.search(\n",
    "    search_text=query,\n",
    "    vector_queries=[vector_query],\n",
    "    select=[\"title\", \"content\"],\n",
    "    top=5\n",
    ")\n",
    "\n",
    "for result in results:\n",
    "    a.append(result['title'])\n",
    "    # print(f\"title: {result['title']}\")\n",
    "    # print(f\"content: {result['content']}\")\n",
    "    # print(f\"Score: {result['@search.score']}\")"
   ]
  }
 ],
 "metadata": {
  "kernelspec": {
   "display_name": "rv",
   "language": "python",
   "name": "python3"
  },
  "language_info": {
   "codemirror_mode": {
    "name": "ipython",
    "version": 3
   },
   "file_extension": ".py",
   "mimetype": "text/x-python",
   "name": "python",
   "nbconvert_exporter": "python",
   "pygments_lexer": "ipython3",
   "version": "3.11.4"
  }
 },
 "nbformat": 4,
 "nbformat_minor": 2
}
