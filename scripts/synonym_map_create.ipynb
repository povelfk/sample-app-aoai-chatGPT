{
 "cells": [
  {
   "cell_type": "markdown",
   "metadata": {},
   "source": [
    "# Uploading a synonym map"
   ]
  },
  {
   "cell_type": "code",
   "execution_count": 2,
   "metadata": {},
   "outputs": [],
   "source": [
    "import requests\n",
    "import json"
   ]
  },
  {
   "cell_type": "code",
   "execution_count": 3,
   "metadata": {},
   "outputs": [],
   "source": []
  },
  {
   "cell_type": "markdown",
   "metadata": {},
   "source": [
    "**creating synonym maps**"
   ]
  },
  {
   "cell_type": "code",
   "execution_count": 18,
   "metadata": {},
   "outputs": [],
   "source": [
    "# **Equivalency rules**\n",
    "agresso_synonym_map={\n",
    "    \"name\": \"agresso-synonyms-equivalency\",\n",
    "    \"format\": \"solr\",\n",
    "    \"synonyms\":\n",
    "        \"Marksaas, marksaas, Levop, levop, Agresso, agresso\\n\"\n",
    "        \"Henke, henke, Miro, miro, Barnrättsombud, barnrättsombud\\n\"\n",
    "}\n",
    "\n",
    "# **Explicit mapping**\n",
    "agresso_synonym_map={\n",
    "    \"name\": \"agresso-synonyms-explicit\",\n",
    "    \"format\": \"solr\",\n",
    "    \"synonyms\":\n",
    "        \"Marksaas, marksaas, Levop, levop, Agresso, agresso => agresso\\n\"\n",
    "        \"Henke, henke, Miro, miro, Barnrättsombud, barnrättsombud => barnrättsombud\\n\"\n",
    "}"
   ]
  },
  {
   "cell_type": "code",
   "execution_count": 19,
   "metadata": {},
   "outputs": [],
   "source": [
    "# agresso_synonym_map={\n",
    "#     \"name\": \"agresso-synonyms-equivalency\",\n",
    "#     \"format\": \"solr\",\n",
    "#     \"synonyms\":\n",
    "#         \"marksaas, agresso\\n\"\n",
    "#         \"henke, barnrättsombud\\n\"\n",
    "# }\n",
    "\n",
    "# agresso_synonym_map={\n",
    "#     \"name\": \"agresso-synonyms-explicit\",\n",
    "#     \"format\": \"solr\",\n",
    "#     \"synonyms\":\n",
    "#         \"marksaas, agresso => agresso\\n\"\n",
    "#         \"henke, barnrättsombud => barnrättsombud\\n\"\n",
    "# }\n"
   ]
  },
  {
   "cell_type": "markdown",
   "metadata": {},
   "source": [
    "**uploading synonym map**"
   ]
  },
  {
   "cell_type": "code",
   "execution_count": 20,
   "metadata": {},
   "outputs": [
    {
     "name": "stdout",
     "output_type": "stream",
     "text": [
      "201\n",
      "{\"@odata.context\":\"https://cog-search-jd5ypzfx2l6vi.search.windows.net/$metadata#synonymmaps/$entity\",\"@odata.etag\":\"\\\"0x8DC03B4C95D7A11\\\"\",\"name\":\"agresso-synonyms-equivalency\",\"format\":\"solr\",\"synonyms\":\"Marksaas, marksaas, Levop, levop, Agresso, agresso\\nHenke, henke, Miro, miro, Barnr\\u00e4ttsombud, barnr\\u00e4ttsombud\\n\",\"encryptionKey\":null}\n"
     ]
    }
   ],
   "source": [
    "url = f\"https://{service_name}.search.windows.net/synonymmaps?api-version={api_version}\"\n",
    "\n",
    "headers = {\n",
    "    \"Content-Type\": \"application/json\",\n",
    "    \"api-key\": admin_key,\n",
    "}\n",
    "\n",
    "# Replace this with your actual data\n",
    "body = agresso_synonym_map\n",
    "\n",
    "response = requests.post(url, headers=headers, data=json.dumps(body))\n",
    "\n",
    "print(response.status_code)\n",
    "print(response.text)"
   ]
  },
  {
   "cell_type": "markdown",
   "metadata": {},
   "source": [
    "**Assign synonym map to fields**"
   ]
  },
  {
   "cell_type": "code",
   "execution_count": null,
   "metadata": {},
   "outputs": [],
   "source": [
    "# url = f\"https://{service_name}.search.windows.net/indexes/{index_name}?api-version={api_version}\"\n",
    "\n",
    "# headers = {\n",
    "#     \"Content-Type\": \"application/json\",\n",
    "#     \"api-key\": admin_key\n",
    "# }\n",
    "\n",
    "# body = {\n",
    "#     \"fields\": [\n",
    "#         {\n",
    "#             \"name\": \"content\",\n",
    "#             \"type\": \"Edm.String\",\n",
    "#             \"searchable\": True,\n",
    "#             \"sortable\": False,\n",
    "#             \"facetable\": False,\n",
    "#             \"filterable\": False,\n",
    "#             \"analyzer\": f\"{language}.lucene\" if language else None,\n",
    "#             \"synonymMaps\": [\"agresso-synonyms\"]\n",
    "#         }\n",
    "#     ]\n",
    "# }\n",
    "\n",
    "# response = requests.put(url, headers=headers, data=json.dumps(body))\n",
    "\n",
    "# # Check the response\n",
    "# if response.status_code == 200:\n",
    "#     print(\"Request was successful.\")\n",
    "# else:\n",
    "#     print(f\"Request failed. Status code: {response.status_code}\")\n",
    "#     print(response.text)\n"
   ]
  },
  {
   "cell_type": "code",
   "execution_count": null,
   "metadata": {},
   "outputs": [],
   "source": [
    "# from azure.core.credentials import AzureKeyCredential\n",
    "# from azure.search.documents.indexes import SearchIndexClient\n",
    "# from azure.search.documents.indexes.models import SearchIndex, SimpleField, SearchFieldDataType\n",
    "\n",
    "# # Create a new SearchIndexClient\n",
    "# endpoint = f\"https://{service_name}.search.windows.net\"\n",
    "# credential = AzureKeyCredential(admin_key)\n",
    "# index_client = SearchIndexClient(endpoint, credential, api_version=api_version)\n",
    "\n",
    "\n",
    "# # Get the index\n",
    "# index = index_client.get_index(name=index_name)\n",
    "\n",
    "# # Assign the synonym map to a field\n",
    "# for field in index.fields:\n",
    "#     if field.name == \"content\":\n",
    "#         field.synonym_maps = [\"agresso-synonyms\"]\n",
    "\n",
    "# # Update the index\n",
    "# index_client.create_or_update_index(index)\n"
   ]
  },
  {
   "cell_type": "markdown",
   "metadata": {},
   "source": [
    "**list synonym maps**"
   ]
  },
  {
   "cell_type": "code",
   "execution_count": 12,
   "metadata": {},
   "outputs": [
    {
     "name": "stdout",
     "output_type": "stream",
     "text": [
      "200\n",
      "{'@odata.etag': '\"0x8DC03B3F0755477\"', 'name': 'agresso-synonyms-equivalency', 'format': 'solr', 'synonyms': 'marksaas, agresso\\nhenke, barnrättsombud\\n', 'encryptionKey': None}\n",
      "{'@odata.etag': '\"0x8DC03B40C821E53\"', 'name': 'agresso-synonyms-explicit', 'format': 'solr', 'synonyms': 'marksaas, agresso => agresso\\nhenke, barnrättsombud => barnrättsombud\\n', 'encryptionKey': None}\n"
     ]
    }
   ],
   "source": [
    "url = f\"https://{service_name}.search.windows.net/synonymmaps?api-version={api_version}\"\n",
    "headers = {\n",
    "    'Content-Type': 'application/json',\n",
    "    'api-key': admin_key\n",
    "}\n",
    "\n",
    "response = requests.get(url, headers=headers)\n",
    "\n",
    "print(response.status_code)\n",
    "# print(response.json())\n",
    "for map in response.json()[\"value\"]:\n",
    "    print(map)"
   ]
  },
  {
   "cell_type": "markdown",
   "metadata": {},
   "source": [
    "**Get specific synonym map**"
   ]
  },
  {
   "cell_type": "code",
   "execution_count": null,
   "metadata": {},
   "outputs": [],
   "source": [
    "synonymmap_name=\"agresso-synonyms\"\n",
    "\n",
    "url = f\"https://{service_name}.search.windows.net/synonymmaps/{synonymmap_name}?api-version={api_version}\"\n",
    "headers = {\n",
    "    'Content-Type': 'application/json',\n",
    "    'api-key': admin_key\n",
    "}\n",
    "\n",
    "response = requests.get(url, headers=headers)\n",
    "\n",
    "print(response.status_code)\n",
    "print(response.json())"
   ]
  },
  {
   "cell_type": "markdown",
   "metadata": {},
   "source": [
    "**delete a synonym map**"
   ]
  },
  {
   "cell_type": "code",
   "execution_count": 14,
   "metadata": {},
   "outputs": [
    {
     "name": "stdout",
     "output_type": "stream",
     "text": [
      "204\n"
     ]
    }
   ],
   "source": [
    "synonymmap_name=\"agresso-synonyms-equivalency\"\n",
    "\n",
    "url = f\"https://{service_name}.search.windows.net/synonymmaps/{synonymmap_name}?api-version={api_version}\"\n",
    "headers = {\n",
    "    'Content-Type': 'application/json',\n",
    "    'api-key': admin_key\n",
    "}\n",
    "\n",
    "response = requests.delete(url, headers=headers)\n",
    "\n",
    "print(response.status_code)"
   ]
  },
  {
   "cell_type": "code",
   "execution_count": null,
   "metadata": {},
   "outputs": [],
   "source": []
  }
 ],
 "metadata": {
  "kernelspec": {
   "display_name": "rv",
   "language": "python",
   "name": "python3"
  },
  "language_info": {
   "codemirror_mode": {
    "name": "ipython",
    "version": 3
   },
   "file_extension": ".py",
   "mimetype": "text/x-python",
   "name": "python",
   "nbconvert_exporter": "python",
   "pygments_lexer": "ipython3",
   "version": "3.11.4"
  }
 },
 "nbformat": 4,
 "nbformat_minor": 2
}
